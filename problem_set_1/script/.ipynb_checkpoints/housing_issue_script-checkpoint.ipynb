{
 "cells": [
  {
   "cell_type": "code",
   "execution_count": 1,
   "metadata": {},
   "outputs": [],
   "source": [
    "#\n",
    "#\n",
    "#Cargar todas las librerías necesarias\n",
    "#\n",
    "\n",
    "import pandas as pd\n",
    "import numpy as np\n",
    "pd.set_option('display.float_format', lambda x: '%.3f' % x)\n"
   ]
  },
  {
   "cell_type": "code",
   "execution_count": 2,
   "metadata": {},
   "outputs": [],
   "source": [
    "#\n",
    "#\n",
    "#Definición de directorio de trabajo#\n",
    "#\n",
    "\n",
    "import os\n",
    "apphome = 'C://Users/pablo/Documents/uniandes/big data y machine learning/git-and-github-fundamentals-pablocort/problem_set_1'\n",
    "os.chdir(apphome)\n",
    "data_home = 'C://Users/pablo/Documents/uniandes/big data y machine learning/git-and-github-fundamentals-pablocort/problem_set_1/stores'\n",
    "os.chdir(data_home)"
   ]
  },
  {
   "cell_type": "code",
   "execution_count": 3,
   "metadata": {},
   "outputs": [],
   "source": [
    "#\n",
    "#\n",
    "# Cargar base de datos\n",
    "#\n",
    "\n",
    "housing = pd.read_csv('co_properties.csv')"
   ]
  },
  {
   "cell_type": "code",
   "execution_count": 4,
   "metadata": {},
   "outputs": [
    {
     "data": {
      "text/plain": [
       "id                    878103\n",
       "ad_type               878103\n",
       "start_date            878103\n",
       "end_date              878103\n",
       "created_on            878103\n",
       "lat                   743969\n",
       "lon                   743969\n",
       "l1                    878103\n",
       "l2                    878103\n",
       "l3                    801092\n",
       "l4                    305314\n",
       "l5                    171341\n",
       "l6                     57236\n",
       "rooms                 258729\n",
       "bedrooms              332720\n",
       "bathrooms             736201\n",
       "surface_total         308817\n",
       "surface_covered       259213\n",
       "price                 869650\n",
       "currency              869414\n",
       "price_period           25879\n",
       "title                 878064\n",
       "description           878048\n",
       "property_type         878103\n",
       "operation_type        878103\n",
       "price_metro2          304561\n",
       "price_metro2_cover    256549\n",
       "dtype: int64"
      ]
     },
     "execution_count": 4,
     "metadata": {},
     "output_type": "execute_result"
    }
   ],
   "source": [
    "#\n",
    "#\n",
    "#Crear variables de precio por metro 2\n",
    "#\n",
    "\n",
    "housing['price_metro2'] = housing['price'] / housing['surface_total']\n",
    "\n",
    "housing['price_metro2_cover'] = (housing['price'] / housing['surface_covered'])\n",
    "\n",
    "housing.count()"
   ]
  },
  {
   "cell_type": "code",
   "execution_count": 5,
   "metadata": {},
   "outputs": [],
   "source": [
    "housing.head()"
   ]
  },
  {
   "cell_type": "code",
   "execution_count": 6,
   "metadata": {},
   "outputs": [],
   "source": [
    "housing.isna().sum()"
   ]
  },
  {
   "cell_type": "code",
   "execution_count": 9,
   "metadata": {},
   "outputs": [],
   "source": [
    "data_housing = housing.dropna(subset= ['price', 'currency', 'l3'])"
   ]
  },
  {
   "cell_type": "code",
   "execution_count": 7,
   "metadata": {},
   "outputs": [],
   "source": [
    "data_housing.isna().sum()"
   ]
  },
  {
   "cell_type": "code",
   "execution_count": 10,
   "metadata": {},
   "outputs": [
    {
     "data": {
      "text/plain": [
       "Bogotá D.C             197806\n",
       "Medellín               102205\n",
       "Cali                    76870\n",
       "Barranquilla            73250\n",
       "Manizales               36726\n",
       "                        ...  \n",
       "Cuítiva                     1\n",
       "Vista Hermosa               1\n",
       "Ráquira                     1\n",
       "Luruaco                     1\n",
       "San Juan Nepomuceno         1\n",
       "Name: l3, Length: 358, dtype: int64"
      ]
     },
     "execution_count": 10,
     "metadata": {},
     "output_type": "execute_result"
    }
   ],
   "source": [
    "data_housing['l3'].value_counts()"
   ]
  },
  {
   "cell_type": "code",
   "execution_count": null,
   "metadata": {},
   "outputs": [],
   "source": [
    "data_housing[(data_housing['l3'] == 'Bogotá D.C') | (data_housing['l3'] == 'Cali') | (data_housing['l3'] == 'Medellín')]\n"
   ]
  },
  {
   "cell_type": "code",
   "execution_count": null,
   "metadata": {},
   "outputs": [],
   "source": []
  },
  {
   "cell_type": "code",
   "execution_count": 31,
   "metadata": {},
   "outputs": [
    {
     "data": {
      "text/html": [
       "<div>\n",
       "<style scoped>\n",
       "    .dataframe tbody tr th:only-of-type {\n",
       "        vertical-align: middle;\n",
       "    }\n",
       "\n",
       "    .dataframe tbody tr th {\n",
       "        vertical-align: top;\n",
       "    }\n",
       "\n",
       "    .dataframe thead th {\n",
       "        text-align: right;\n",
       "    }\n",
       "</style>\n",
       "<table border=\"1\" class=\"dataframe\">\n",
       "  <thead>\n",
       "    <tr style=\"text-align: right;\">\n",
       "      <th></th>\n",
       "      <th>rooms</th>\n",
       "      <th>bedrooms</th>\n",
       "      <th>bathrooms</th>\n",
       "      <th>surface_total</th>\n",
       "      <th>surface_covered</th>\n",
       "      <th>price</th>\n",
       "    </tr>\n",
       "  </thead>\n",
       "  <tbody>\n",
       "    <tr>\n",
       "      <th>count</th>\n",
       "      <td>258729.000000</td>\n",
       "      <td>332720.000000</td>\n",
       "      <td>736201.000000</td>\n",
       "      <td>308817.000000</td>\n",
       "      <td>2.592130e+05</td>\n",
       "      <td>8.696500e+05</td>\n",
       "    </tr>\n",
       "    <tr>\n",
       "      <th>mean</th>\n",
       "      <td>3.155240</td>\n",
       "      <td>2.821150</td>\n",
       "      <td>2.555119</td>\n",
       "      <td>1041.880353</td>\n",
       "      <td>1.042162e+04</td>\n",
       "      <td>5.162135e+08</td>\n",
       "    </tr>\n",
       "    <tr>\n",
       "      <th>std</th>\n",
       "      <td>1.776416</td>\n",
       "      <td>12.978142</td>\n",
       "      <td>1.476658</td>\n",
       "      <td>7412.213312</td>\n",
       "      <td>2.973033e+06</td>\n",
       "      <td>2.464838e+09</td>\n",
       "    </tr>\n",
       "    <tr>\n",
       "      <th>min</th>\n",
       "      <td>1.000000</td>\n",
       "      <td>0.000000</td>\n",
       "      <td>1.000000</td>\n",
       "      <td>-36.000000</td>\n",
       "      <td>1.000000e+00</td>\n",
       "      <td>0.000000e+00</td>\n",
       "    </tr>\n",
       "    <tr>\n",
       "      <th>25%</th>\n",
       "      <td>2.000000</td>\n",
       "      <td>2.000000</td>\n",
       "      <td>2.000000</td>\n",
       "      <td>66.000000</td>\n",
       "      <td>6.600000e+01</td>\n",
       "      <td>2.800000e+06</td>\n",
       "    </tr>\n",
       "    <tr>\n",
       "      <th>50%</th>\n",
       "      <td>3.000000</td>\n",
       "      <td>3.000000</td>\n",
       "      <td>2.000000</td>\n",
       "      <td>100.000000</td>\n",
       "      <td>1.000000e+02</td>\n",
       "      <td>1.900000e+08</td>\n",
       "    </tr>\n",
       "    <tr>\n",
       "      <th>75%</th>\n",
       "      <td>3.000000</td>\n",
       "      <td>3.000000</td>\n",
       "      <td>3.000000</td>\n",
       "      <td>210.000000</td>\n",
       "      <td>1.960000e+02</td>\n",
       "      <td>4.600000e+08</td>\n",
       "    </tr>\n",
       "    <tr>\n",
       "      <th>max</th>\n",
       "      <td>40.000000</td>\n",
       "      <td>6820.000000</td>\n",
       "      <td>20.000000</td>\n",
       "      <td>200000.000000</td>\n",
       "      <td>1.419500e+09</td>\n",
       "      <td>8.500000e+11</td>\n",
       "    </tr>\n",
       "  </tbody>\n",
       "</table>\n",
       "</div>"
      ],
      "text/plain": [
       "               rooms       bedrooms      bathrooms  surface_total  \\\n",
       "count  258729.000000  332720.000000  736201.000000  308817.000000   \n",
       "mean        3.155240       2.821150       2.555119    1041.880353   \n",
       "std         1.776416      12.978142       1.476658    7412.213312   \n",
       "min         1.000000       0.000000       1.000000     -36.000000   \n",
       "25%         2.000000       2.000000       2.000000      66.000000   \n",
       "50%         3.000000       3.000000       2.000000     100.000000   \n",
       "75%         3.000000       3.000000       3.000000     210.000000   \n",
       "max        40.000000    6820.000000      20.000000  200000.000000   \n",
       "\n",
       "       surface_covered         price  \n",
       "count     2.592130e+05  8.696500e+05  \n",
       "mean      1.042162e+04  5.162135e+08  \n",
       "std       2.973033e+06  2.464838e+09  \n",
       "min       1.000000e+00  0.000000e+00  \n",
       "25%       6.600000e+01  2.800000e+06  \n",
       "50%       1.000000e+02  1.900000e+08  \n",
       "75%       1.960000e+02  4.600000e+08  \n",
       "max       1.419500e+09  8.500000e+11  "
      ]
     },
     "execution_count": 31,
     "metadata": {},
     "output_type": "execute_result"
    }
   ],
   "source": [
    "housing[['rooms','bedrooms','bathrooms','surface_total','surface_covered','price']].describe()"
   ]
  }
 ],
 "metadata": {
  "kernelspec": {
   "display_name": "Python 3",
   "language": "python",
   "name": "python3"
  },
  "language_info": {
   "codemirror_mode": {
    "name": "ipython",
    "version": 3
   },
   "file_extension": ".py",
   "mimetype": "text/x-python",
   "name": "python",
   "nbconvert_exporter": "python",
   "pygments_lexer": "ipython3",
   "version": "3.7.6"
  }
 },
 "nbformat": 4,
 "nbformat_minor": 4
}
